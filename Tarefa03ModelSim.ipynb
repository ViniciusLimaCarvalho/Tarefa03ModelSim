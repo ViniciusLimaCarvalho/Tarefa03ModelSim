{
 "cells": [
  {
   "metadata": {},
   "cell_type": "markdown",
   "source": [
    "# Tarefa 03 de Modelagem e Simulação\n",
    "\n",
    "**Alunos:** <br> Vinícius Lima Carvalho (12221BCC018) <br>\n",
    "        Osvaldo Pagioli de Lollo Silva (12221BCC047)\n",
    "\n",
    "### Questão 4)b)"
   ],
   "id": "d37f29415efe8bb8"
  },
  {
   "metadata": {
    "collapsed": true,
    "ExecuteTime": {
     "end_time": "2025-09-05T21:31:46.388772Z",
     "start_time": "2025-09-05T21:31:32.728709Z"
    }
   },
   "cell_type": "code",
   "source": [
    "import numpy as np\n",
    "\n",
    "# Matriz de probabilidades\n",
    "P = np.array([\n",
    "    [0, 1, 0, 0],      # estado 0 -> 1\n",
    "    [0, 0, 1, 0],      # estado 1 -> 2\n",
    "    [0, 0.5, 0, 0.5],  # estado 2 -> 1 ou 3\n",
    "    [1, 0, 0, 0]       # estado 3 -> 0\n",
    "])\n",
    "\n",
    "# Taxas de saída\n",
    "lambdas = np.array([1.0, 1.0, 1.0, 2.0])  # λ0=λ1=λ2=1, λ3=2\n",
    "\n",
    "# Parâmetros da simulação\n",
    "N = 1_000_000   # número de saltos\n",
    "state = 0       # começa no estado 0\n",
    "times = np.zeros(4)  # acumular tempos em cada estado\n",
    "rng = np.random.default_rng(seed=42)\n",
    "\n",
    "for _ in range(N):\n",
    "    delta_t = rng.exponential(1.0 / lambdas[state])\n",
    "    times[state] += delta_t\n",
    "\n",
    "    state = rng.choice(4, p=P[state])\n",
    "\n",
    "# Normaliza para obter a distribuição limitante\n",
    "pi_est = times / times.sum()\n",
    "\n",
    "print(\"Estimativa por Monte Carlo:\")\n",
    "for i, p in enumerate(pi_est):\n",
    "    print(f\"pi[{i}] ~ {p:.4f}\")\n",
    "\n",
    "# Comparação com valor teórico\n",
    "pi_teorico = np.array([2/11, 4/11, 4/11, 1/11])\n",
    "print(\"\\nDistribuição teórica:\", pi_teorico)\n"
   ],
   "id": "initial_id",
   "outputs": [
    {
     "name": "stdout",
     "output_type": "stream",
     "text": [
      "Estimativa por Monte Carlo:\n",
      "pi[0] ~ 0.1816\n",
      "pi[1] ~ 0.3634\n",
      "pi[2] ~ 0.3643\n",
      "pi[3] ~ 0.0907\n",
      "\n",
      "Distribuição teórica: [0.18181818 0.36363636 0.36363636 0.09090909]\n"
     ]
    }
   ],
   "execution_count": 5
  },
  {
   "metadata": {},
   "cell_type": "markdown",
   "source": "### Questão 5)",
   "id": "c143167809bcebf4"
  },
  {
   "metadata": {
    "ExecuteTime": {
     "end_time": "2025-09-05T21:34:42.828692Z",
     "start_time": "2025-09-05T21:34:42.823074Z"
    }
   },
   "cell_type": "code",
   "source": [
    "import numpy as np\n",
    "\n",
    "# parâmetros\n",
    "taxa_falha = 1/100  # taxa de falha por máquina\n",
    "taxa_reparo = 1/2     # taxa de reparo\n",
    "n = 4                 # número de máquinas\n",
    "\n",
    "# construir geradora G\n",
    "G = np.zeros((n+1, n+1))\n",
    "\n",
    "for i in range(n+1):\n",
    "    if i > 0:  # falha de uma das i máquinas\n",
    "        G[i, i-1] = i * taxa_falha\n",
    "    if i < n:  # reparo de uma máquina\n",
    "        G[i, i+1] = taxa_reparo\n",
    "\n",
    "    G[i, i] = -np.sum(G[i])  # diagonal\n",
    "\n",
    "print(\"(a) Matriz geradora G:\")\n",
    "print(G)\n",
    "\n",
    "# resolver distribuição estacionária: pi G = 0, sum(pi)=1\n",
    "A = np.copy(G.T)\n",
    "A[-1] = np.ones(n+1)   # substitui última eq pela normalização\n",
    "b = np.zeros(n+1)\n",
    "b[-1] = 1\n",
    "pi = np.linalg.solve(A, b)\n",
    "\n",
    "\n",
    "# (b) probabilidade de todas estarem quebradas (estado 0)\n",
    "print(f\"\\n(b) Probabilidade de todas estarem quebradas: {pi[0]:.8f}\")\n",
    "\n",
    "# (c) número médio de máquinas operantes\n",
    "esperado = sum(i * pi[i] for i in range(n+1))\n",
    "print(f\"(c) Número médio de máquinas operantes:{esperado:.4f}\")\n"
   ],
   "id": "d1dec5c1bd01440b",
   "outputs": [
    {
     "name": "stdout",
     "output_type": "stream",
     "text": [
      "Matriz geradora G:\n",
      "[[-0.5   0.5   0.    0.    0.  ]\n",
      " [ 0.01 -0.51  0.5   0.    0.  ]\n",
      " [ 0.    0.02 -0.52  0.5   0.  ]\n",
      " [ 0.    0.    0.03 -0.53  0.5 ]\n",
      " [ 0.    0.    0.    0.04 -0.04]]\n",
      "\n",
      "Distribuição estacionária pi:\n",
      "Estado 0 (máquinas operantes): 0.000004\n",
      "Estado 1 (máquinas operantes): 0.000177\n",
      "Estado 2 (máquinas operantes): 0.004424\n",
      "Estado 3 (máquinas operantes): 0.073733\n",
      "Estado 4 (máquinas operantes): 0.921663\n",
      "\n",
      "(b) Probabilidade de todas estarem quebradas: 0.00000354\n",
      "(c) Número médio de máquinas operantes:3.9169\n"
     ]
    }
   ],
   "execution_count": 8
  },
  {
   "metadata": {},
   "cell_type": "markdown",
   "source": "### Questão 6)",
   "id": "a8e0c2c05838cd95"
  },
  {
   "metadata": {
    "ExecuteTime": {
     "end_time": "2025-09-05T21:41:59.281834Z",
     "start_time": "2025-09-05T21:41:59.277426Z"
    }
   },
   "cell_type": "code",
   "source": [
    "import numpy as np\n",
    "\n",
    "# Parâmetros do modelo\n",
    "N = 3          # população total\n",
    "beta = 1.0     # taxa de infecção\n",
    "gama = 1.0    # taxa de recuperação\n",
    "\n",
    "# Construir a matriz geradora G (dimensão N+1 = 4)\n",
    "G = np.zeros((N+1, N+1))\n",
    "\n",
    "for i in range(N+1):\n",
    "    # transição i -> i+1 (infecção)\n",
    "    if i < N:\n",
    "        lam = beta * i\n",
    "        G[i, i+1] = lam\n",
    "    # transição i -> i-1 (recuperação)\n",
    "    if i > 0:\n",
    "        mu = gama * i\n",
    "        G[i, i-1] = mu\n",
    "    # diagonal = -soma das taxas de saída\n",
    "    G[i, i] = -G[i].sum()\n",
    "\n",
    "print(\"(b) Matriz geradora G:\")\n",
    "print(G)\n",
    "\n",
    "# Resolver pi * G = 0, com sum(pi) = 1\n",
    "A = G.T.copy()\n",
    "A[-1] = np.ones(N+1)   # substitui última linha pela normalização\n",
    "b = np.zeros(N+1)\n",
    "b[-1] = 1\n",
    "\n",
    "pi = np.linalg.solve(A, b)\n",
    "\n",
    "print(\"\\n(c) Distribuição estacionária pi:\")\n",
    "for i, p in enumerate(pi):\n",
    "    print(f\"pi[{i}] = {p:.6f}\")\n",
    "\n"
   ],
   "id": "572ef555b4290770",
   "outputs": [
    {
     "name": "stdout",
     "output_type": "stream",
     "text": [
      "(b) Matriz geradora G:\n",
      "[[-0.  0.  0.  0.]\n",
      " [ 1. -2.  1.  0.]\n",
      " [ 0.  2. -4.  2.]\n",
      " [ 0.  0.  3. -3.]]\n",
      "\n",
      "(c) Distribuição estacionária pi:\n",
      "pi[0] = 1.000000\n",
      "pi[1] = -0.000000\n",
      "pi[2] = -0.000000\n",
      "pi[3] = 0.000000\n"
     ]
    }
   ],
   "execution_count": 12
  }
 ],
 "metadata": {
  "kernelspec": {
   "display_name": "Python 3",
   "language": "python",
   "name": "python3"
  },
  "language_info": {
   "codemirror_mode": {
    "name": "ipython",
    "version": 2
   },
   "file_extension": ".py",
   "mimetype": "text/x-python",
   "name": "python",
   "nbconvert_exporter": "python",
   "pygments_lexer": "ipython2",
   "version": "2.7.6"
  }
 },
 "nbformat": 4,
 "nbformat_minor": 5
}
