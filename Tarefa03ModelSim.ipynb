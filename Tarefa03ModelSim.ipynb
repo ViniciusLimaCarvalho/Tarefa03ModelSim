{
 "cells": [
  {
   "metadata": {},
   "cell_type": "markdown",
   "source": [
    "# Tarefa 03 de Modelagem e Simulação\n",
    "\n",
    "Alunos: Vinícius Lima Carvalho (12221BCC018) <br>\n",
    "        Osvaldo Pagioli de Lollo Silva (12221BCC047)"
   ],
   "id": "d37f29415efe8bb8"
  },
  {
   "metadata": {
    "collapsed": true
   },
   "cell_type": "code",
   "outputs": [],
   "execution_count": null,
   "source": [
    "import numpy as np\n",
    "\n"
   ],
   "id": "initial_id"
  }
 ],
 "metadata": {
  "kernelspec": {
   "display_name": "Python 3",
   "language": "python",
   "name": "python3"
  },
  "language_info": {
   "codemirror_mode": {
    "name": "ipython",
    "version": 2
   },
   "file_extension": ".py",
   "mimetype": "text/x-python",
   "name": "python",
   "nbconvert_exporter": "python",
   "pygments_lexer": "ipython2",
   "version": "2.7.6"
  }
 },
 "nbformat": 4,
 "nbformat_minor": 5
}
